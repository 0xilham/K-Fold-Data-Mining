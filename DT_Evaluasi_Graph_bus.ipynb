{
  "nbformat": 4,
  "nbformat_minor": 0,
  "metadata": {
    "colab": {
      "provenance": [],
      "authorship_tag": "ABX9TyPCzkbxSjC15/LFj0KbU9E4",
      "include_colab_link": true
    },
    "kernelspec": {
      "name": "python3",
      "display_name": "Python 3"
    },
    "language_info": {
      "name": "python"
    }
  },
  "cells": [
    {
      "cell_type": "markdown",
      "metadata": {
        "id": "view-in-github",
        "colab_type": "text"
      },
      "source": [
        "<a href=\"https://colab.research.google.com/github/ilhamcoder/K-Fold-Data-Mining/blob/main/DT_Evaluasi_Graph_bus.ipynb\" target=\"_parent\"><img src=\"https://colab.research.google.com/assets/colab-badge.svg\" alt=\"Open In Colab\"/></a>"
      ]
    },
    {
      "cell_type": "code",
      "execution_count": 2,
      "metadata": {
        "colab": {
          "base_uri": "https://localhost:8080/"
        },
        "id": "OXvGQM_wOxW7",
        "outputId": "80027757-7c5b-4130-a5f8-8b426b2b60f8"
      },
      "outputs": [
        {
          "output_type": "stream",
          "name": "stdout",
          "text": [
            "Cloning into 'K-Fold-Data-Mining'...\n",
            "remote: Enumerating objects: 6, done.\u001b[K\n",
            "remote: Counting objects: 100% (6/6), done.\u001b[K\n",
            "remote: Compressing objects: 100% (4/4), done.\u001b[K\n",
            "remote: Total 6 (delta 0), reused 0 (delta 0), pack-reused 0\u001b[K\n",
            "Unpacking objects: 100% (6/6), 2.23 KiB | 2.23 MiB/s, done.\n"
          ]
        }
      ],
      "source": [
        "!git clone https://github.com/ilhamcoder/K-Fold-Data-Mining.git"
      ]
    },
    {
      "cell_type": "code",
      "source": [
        "# Membangun Klasifikasi menggunakan entropy dan information\n",
        "# 1. Import Library yang dibutuhkan\n",
        "\n",
        "import pandas as pd\n",
        "import numpy as np\n",
        "from sklearn.model_selection import train_test_split,  cross_val_score\n",
        "from sklearn.tree import DecisionTreeClassifier, plot_tree\n",
        "from sklearn.metrics import confusion_matrix, roc_auc_score, roc_curve\n",
        "import matplotlib. pyplot as pit"
      ],
      "metadata": {
        "id": "AFPZ7DwASdTk"
      },
      "execution_count": 3,
      "outputs": []
    },
    {
      "cell_type": "code",
      "source": [
        "# 2 Memuat data dari file path file bus.csv\n",
        "file_path = r'/content/K-Fold-Data-Mining/bus.csv'\n",
        "\n",
        "# Membaca file csv dan menyimpannya dalam sebuah dataframe\n",
        "df = pd.read_csv(file_path)\n",
        "\n",
        "# Menampilkan lima baris pertama dari dataframe\n",
        "print(df.head())"
      ],
      "metadata": {
        "colab": {
          "base_uri": "https://localhost:8080/"
        },
        "id": "VPH2GsKIUVO_",
        "outputId": "45e69f79-7c5b-4706-e72f-794e39a35f6e"
      },
      "execution_count": 5,
      "outputs": [
        {
          "output_type": "stream",
          "name": "stdout",
          "text": [
            "   WCTA  EBITA  RETA   BVETD  Z-Score          Class\n",
            "0  4.32  1.400  1.36   13.26   0.7762  Distress Zone\n",
            "1  0.95  1.750  1.09  195.14   5.9081      Safe Zone\n",
            "2  3.19  1.610  0.35   20.62   0.0852  Distress Zone\n",
            "3  1.80  1.500   NaN   31.43   5.7425      Safe Zone\n",
            "4  3.59  1.625  0.61   27.68   2.1127      Grey Zone\n"
          ]
        }
      ]
    },
    {
      "cell_type": "code",
      "source": [
        "# 3. Menentukan variabel independen dan dependen\n",
        "\"\"\" \n",
        "Pada Coding diberikan variabel dataframe \"df\" yang memiliki kolom \"Class\" yang dianggap sebagai variabel dependen atau target. Sedangkan variabel independen atau prediktor diambil dari seluruh kolom yang ada kecuali kolom \"Class\" dengan menggunakan fungsi drop dari pandas.\n",
        "Secara rinci, kode tersebut melakukan hal berikut:\n",
        "Variabel X dibentuk dengan mengambil seluruh kolom pada dataframe df kecuali kolom \"Class\" menggunakan method drop dengan parameter axis-1 untuk menunjukkan penghapusan kolom secara horizontal. Variabel X merupakan variabel independen atau prediktor.\n",
        "Variabel y dibentuk dengan mengambil kolom \"Class\" pada dataframe df.\n",
        "Variabel y merupakan variabel dependen atau target.\n",
        "Dengan menggunakan variabel x dan y tersebut, dapat dilakukan pembentukan model atau analisis yang bersifat prediktif atau klasifikasi pada data yang telah diproses.\n",
        "\"\"\"\n",
        "# Menentukan Variabel Dependen dan independen.\n",
        "X = df.drop('Class', axis=1)\n",
        "y = df['Class']"
      ],
      "metadata": {
        "id": "HMHDvrlmi1Iv"
      },
      "execution_count": 6,
      "outputs": []
    },
    {
      "cell_type": "code",
      "source": [],
      "metadata": {
        "id": "YTz7gop6pPWB"
      },
      "execution_count": null,
      "outputs": []
    }
  ]
}